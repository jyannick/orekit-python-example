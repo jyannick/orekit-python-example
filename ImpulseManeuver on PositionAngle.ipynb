{
 "cells": [
  {
   "cell_type": "markdown",
   "metadata": {},
   "source": [
    "# Imports and initialization"
   ]
  },
  {
   "cell_type": "code",
   "execution_count": 1,
   "metadata": {},
   "outputs": [
    {
     "name": "stdout",
     "output_type": "stream",
     "text": [
      "Java version: 1.8.0_152-release\n",
      "Orekit version: 10.2\n",
      "Downloading file from: https://gitlab.orekit.org/orekit/orekit-data/-/archive/master/orekit-data-master.zip\n"
     ]
    }
   ],
   "source": [
    "import orekit\n",
    "import math\n",
    "from org.orekit.propagation import PropagationType\n",
    "from org.orekit.propagation.events import EventEnablingPredicateFilter, PythonEnablingPredicate, PositionAngleDetector\n",
    "from org.orekit.propagation.conversion import DormandPrince853IntegratorBuilder, DSSTPropagatorBuilder\n",
    "from org.orekit.propagation.events import EventEnablingPredicateFilter, PythonEnablingPredicate, PositionAngleDetector\n",
    "from org.orekit.time import AbsoluteDate, TimeScalesFactory\n",
    "from org.orekit.orbits import CircularOrbit, OrbitType, PositionAngle\n",
    "from org.orekit.utils import Constants, IERSConventions, PVCoordinatesProvider\n",
    "from org.orekit.frames import FramesFactory, LOFType\n",
    "from org.orekit.forces.maneuvers import ImpulseManeuver\n",
    "from org.orekit.attitudes import LofOffset\n",
    "from org.hipparchus.geometry.euclidean.threed import Vector3D\n",
    "from orekit.pyhelpers import setup_orekit_curdir, download_orekit_data_curdir\n",
    "\n",
    "vm = orekit.initVM()\n",
    "print('Java version:', vm.java_version)\n",
    "print('Orekit version:', orekit.VERSION)\n",
    "\n",
    "download_orekit_data_curdir()\n",
    "setup_orekit_curdir()"
   ]
  },
  {
   "cell_type": "markdown",
   "metadata": {},
   "source": [
    "# Set up the propagator"
   ]
  },
  {
   "cell_type": "code",
   "execution_count": 2,
   "metadata": {},
   "outputs": [],
   "source": [
    "date = AbsoluteDate(2020, 10, 11, 0, 0, 0., TimeScalesFactory.getUTC())\n",
    "\n",
    "orbit = CircularOrbit(800e3 + Constants.WGS84_EARTH_EQUATORIAL_RADIUS,\n",
    "                      0.01, 0.001, math.radians(40.), math.radians(30), math.radians(80),\n",
    "                      PositionAngle.MEAN, FramesFactory.getEME2000(), date, Constants.WGS84_EARTH_MU)\n",
    "\n",
    "\n",
    "builder = DSSTPropagatorBuilder(orbit,\n",
    "                                DormandPrince853IntegratorBuilder(600.0, 86400.0, 100.0),\n",
    "                                1.0, PropagationType.MEAN, PropagationType.MEAN)\n",
    "builder.setMass(1000.)\n",
    "propagator = builder.buildPropagator(builder.getSelectedNormalizedParameters())\n",
    "propagator.setEphemerisMode()\n"
   ]
  },
  {
   "cell_type": "markdown",
   "metadata": {},
   "source": [
    "# Add the maneuver\n",
    "This must be where my problem lies, probably when subclassing PythonEnablingPredicate, or when manipulating the parametric types with `of_` ?"
   ]
  },
  {
   "cell_type": "code",
   "execution_count": 3,
   "metadata": {},
   "outputs": [],
   "source": [
    "class CloseToDatePredicate(PythonEnablingPredicate):\n",
    "    def __init__(self, date: AbsoluteDate, tolerance_seconds: float):\n",
    "        self.date = date\n",
    "        self.tolerance_seconds = tolerance_seconds\n",
    "        \n",
    "    def eventIsEnabled(state, eventDetector, g):\n",
    "        return abs(state.getDate().durationFrom(this.date)) <= this.tolerance_seconds \n",
    "    \n",
    "    \n",
    "maneuver_approximate_date = AbsoluteDate(2020, 10, 11, 12, 0, 0., TimeScalesFactory.getUTC())\n",
    "predicate = CloseToDatePredicate(maneuver_approximate_date, 1000.)\n",
    "\n",
    "position_angle_detector = PositionAngleDetector(OrbitType.CIRCULAR, PositionAngle.TRUE, math.radians(90))\n",
    "filtered_detector = EventEnablingPredicateFilter(position_angle_detector, predicate)\n",
    "\n",
    "maneuver_withOUT_filter = ImpulseManeuver(position_angle_detector, LofOffset(FramesFactory.getEME2000(), LOFType.TNW), Vector3D.PLUS_I, 300.)\n",
    "maneuver_with_filter = ImpulseManeuver(filtered_detector, LofOffset(FramesFactory.getEME2000(), LOFType.TNW), Vector3D.PLUS_I, 300.)"
   ]
  },
  {
   "cell_type": "markdown",
   "metadata": {},
   "source": [
    "# Propagation\n",
    "\n",
    "Without maneuver, or with only the `maneuver_withOUT_filter` the propagation works fine.\n",
    "\n",
    "But when the line adding `maneuver_with_filter` is uncommented, the propagation leads to a NullPointerException on [line 150 of EventEnablingPredicateFilter.java](https://gitlab.orekit.org/orekit/orekit/-/blob/2cf9649809b64986c24245ff47a7bd6a46f29e60/src/main/java/org/orekit/propagation/events/EventEnablingPredicateFilter.java#L150).\n"
   ]
  },
  {
   "cell_type": "code",
   "execution_count": 4,
   "metadata": {},
   "outputs": [
    {
     "ename": "JavaError",
     "evalue": "<super: <class 'JavaError'>, <JavaError object>>\n    Java stacktrace:\njava.lang.NullPointerException\n\tat org.orekit.propagation.events.EventEnablingPredicateFilter.g(EventEnablingPredicateFilter.java:150)\n\tat org.orekit.forces.maneuvers.ImpulseManeuver.g(ImpulseManeuver.java:153)\n\tat org.orekit.propagation.integration.AbstractIntegratedPropagator$AdaptedEventDetector.g(AbstractIntegratedPropagator.java:785)\n\tat org.hipparchus.ode.events.EventState.reinitializeBegin(EventState.java:173)\n\tat org.hipparchus.ode.AbstractIntegrator.acceptStep(AbstractIntegrator.java:299)\n\tat org.hipparchus.ode.nonstiff.EmbeddedRungeKuttaIntegrator.integrate(EmbeddedRungeKuttaIntegrator.java:290)\n\tat org.orekit.propagation.integration.AbstractIntegratedPropagator.propagate(AbstractIntegratedPropagator.java:469)\n\tat org.orekit.propagation.integration.AbstractIntegratedPropagator.propagate(AbstractIntegratedPropagator.java:414)\n\tat org.orekit.propagation.integration.AbstractIntegratedPropagator.propagate(AbstractIntegratedPropagator.java:397)\n",
     "output_type": "error",
     "traceback": [
      "\u001b[0;31m---------------------------------------------------------------------------\u001b[0m",
      "\u001b[0;31mJavaError\u001b[0m                                 Traceback (most recent call last)",
      "\u001b[0;32m<ipython-input-4-699c4be7ebdf>\u001b[0m in \u001b[0;36m<module>\u001b[0;34m\u001b[0m\n\u001b[1;32m      6\u001b[0m \u001b[0mpropagator\u001b[0m\u001b[0;34m.\u001b[0m\u001b[0maddEventDetector\u001b[0m\u001b[0;34m(\u001b[0m\u001b[0mmaneuver_withOUT_filter\u001b[0m\u001b[0;34m)\u001b[0m\u001b[0;34m\u001b[0m\u001b[0;34m\u001b[0m\u001b[0m\n\u001b[1;32m      7\u001b[0m \u001b[0mpropagator\u001b[0m\u001b[0;34m.\u001b[0m\u001b[0maddEventDetector\u001b[0m\u001b[0;34m(\u001b[0m\u001b[0mmaneuver_with_filter\u001b[0m\u001b[0;34m)\u001b[0m\u001b[0;34m\u001b[0m\u001b[0;34m\u001b[0m\u001b[0m\n\u001b[0;32m----> 8\u001b[0;31m \u001b[0mpropagator\u001b[0m\u001b[0;34m.\u001b[0m\u001b[0mpropagate\u001b[0m\u001b[0;34m(\u001b[0m\u001b[0mfinal_date\u001b[0m\u001b[0;34m)\u001b[0m\u001b[0;34m\u001b[0m\u001b[0;34m\u001b[0m\u001b[0m\n\u001b[0m",
      "\u001b[0;31mJavaError\u001b[0m: <super: <class 'JavaError'>, <JavaError object>>\n    Java stacktrace:\njava.lang.NullPointerException\n\tat org.orekit.propagation.events.EventEnablingPredicateFilter.g(EventEnablingPredicateFilter.java:150)\n\tat org.orekit.forces.maneuvers.ImpulseManeuver.g(ImpulseManeuver.java:153)\n\tat org.orekit.propagation.integration.AbstractIntegratedPropagator$AdaptedEventDetector.g(AbstractIntegratedPropagator.java:785)\n\tat org.hipparchus.ode.events.EventState.reinitializeBegin(EventState.java:173)\n\tat org.hipparchus.ode.AbstractIntegrator.acceptStep(AbstractIntegrator.java:299)\n\tat org.hipparchus.ode.nonstiff.EmbeddedRungeKuttaIntegrator.integrate(EmbeddedRungeKuttaIntegrator.java:290)\n\tat org.orekit.propagation.integration.AbstractIntegratedPropagator.propagate(AbstractIntegratedPropagator.java:469)\n\tat org.orekit.propagation.integration.AbstractIntegratedPropagator.propagate(AbstractIntegratedPropagator.java:414)\n\tat org.orekit.propagation.integration.AbstractIntegratedPropagator.propagate(AbstractIntegratedPropagator.java:397)\n"
     ]
    }
   ],
   "source": [
    "final_date = date.shiftedBy(24*3600.)\n",
    "\n",
    "# position_angle_detector.init(propagator.getInitialState(), final_date) # This is not necessary, proving that issue #663 is fixed\n",
    "filtered_detector.init(propagator.getInitialState(), final_date) # This does not seem to help, unfortunately\n",
    "\n",
    "propagator.addEventDetector(maneuver_withOUT_filter)\n",
    "propagator.addEventDetector(maneuver_with_filter)\n",
    "propagator.propagate(final_date)"
   ]
  }
 ],
 "metadata": {
  "kernelspec": {
   "display_name": "Python 3",
   "language": "python",
   "name": "python3"
  },
  "language_info": {
   "codemirror_mode": {
    "name": "ipython",
    "version": 3
   },
   "file_extension": ".py",
   "mimetype": "text/x-python",
   "name": "python",
   "nbconvert_exporter": "python",
   "pygments_lexer": "ipython3",
   "version": "3.7.8"
  }
 },
 "nbformat": 4,
 "nbformat_minor": 4
}
